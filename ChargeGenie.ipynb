{
  "cells": [
    {
      "cell_type": "markdown",
      "metadata": {
        "id": "view-in-github",
        "colab_type": "text"
      },
      "source": [
        "<a href=\"https://colab.research.google.com/github/vediicaa/ChargeGenie/blob/main/ChargeGenie.ipynb\" target=\"_parent\"><img src=\"https://colab.research.google.com/assets/colab-badge.svg\" alt=\"Open In Colab\"/></a>"
      ]
    },
    {
      "cell_type": "code",
      "execution_count": null,
      "metadata": {
        "id": "RxmJ3jVKGI5Q"
      },
      "outputs": [],
      "source": [
        "import pandas as pd\n",
        "import numpy as np\n",
        "import seaborn as sns\n",
        "import matplotlib.pyplot as plt\n",
        "import re"
      ]
    },
    {
      "cell_type": "code",
      "execution_count": null,
      "metadata": {
        "colab": {
          "base_uri": "https://localhost:8080/",
          "height": 1000
        },
        "id": "0n6F13nzGNqG",
        "outputId": "27d04622-5797-467c-e5a2-40ba655dfe07"
      },
      "outputs": [
        {
          "output_type": "stream",
          "name": "stdout",
          "text": [
            "<class 'pandas.core.frame.DataFrame'>\n",
            "RangeIndex: 4148 entries, 0 to 4147\n",
            "Data columns (total 45 columns):\n",
            " #   Column                                 Non-Null Count  Dtype \n",
            "---  ------                                 --------------  ----- \n",
            " 0   Unnamed: 0                             4148 non-null   int64 \n",
            " 1   case_id                                4148 non-null   object\n",
            " 2   sentences                              4148 non-null   object\n",
            " 3   doc_tags                               4148 non-null   object\n",
            " 4   hurt                                   4148 non-null   int64 \n",
            " 5   murder                                 4148 non-null   int64 \n",
            " 6   theft                                  4148 non-null   int64 \n",
            " 7   wrongful restraint                     4148 non-null   int64 \n",
            " 8   kidnapping                             4148 non-null   int64 \n",
            " 9   unlawful assembly                      4148 non-null   int64 \n",
            " 10  general explanations                   4148 non-null   int64 \n",
            " 11  lawful authority of public servant     4148 non-null   int64 \n",
            " 12  introduction                           4148 non-null   int64 \n",
            " 13  criminal force                         4148 non-null   int64 \n",
            " 14  criminal breach of trust               4148 non-null   int64 \n",
            " 15  cheating                               4148 non-null   int64 \n",
            " 16  offence by public servant              4148 non-null   int64 \n",
            " 17  criminal conspiracy                    4148 non-null   int64 \n",
            " 18  forgery                                4148 non-null   int64 \n",
            " 19  abetment                               4148 non-null   int64 \n",
            " 20  robbery                                4148 non-null   int64 \n",
            " 21  offence against public justice         4148 non-null   int64 \n",
            " 22  extortion                              4148 non-null   int64 \n",
            " 23  criminal trespass                      4148 non-null   int64 \n",
            " 24  marriage offence                       4148 non-null   int64 \n",
            " 25  sexual offence                         4148 non-null   int64 \n",
            " 26  offence related to religion            4148 non-null   int64 \n",
            " 27  defamation                             4148 non-null   int64 \n",
            " 28  punishments                            4148 non-null   int64 \n",
            " 29  general exceptions                     4148 non-null   int64 \n",
            " 30  criminal misappropriation of property  4148 non-null   int64 \n",
            " 31  attempt to commit offence              4148 non-null   int64 \n",
            " 32  receiving stolen property              4148 non-null   int64 \n",
            " 33  mischief                               4148 non-null   int64 \n",
            " 34  offence against state                  4148 non-null   int64 \n",
            " 35  private defence                        4148 non-null   int64 \n",
            " 36  offence related to armed forces        4148 non-null   int64 \n",
            " 37  offence affecting public safety        4148 non-null   int64 \n",
            " 38  criminal intimidation                  4148 non-null   int64 \n",
            " 39  elections                              4148 non-null   int64 \n",
            " 40  coin and stamp                         4148 non-null   int64 \n",
            " 41  cruelty by husband                     4148 non-null   int64 \n",
            " 42  causing miscarriage                    4148 non-null   int64 \n",
            " 43  criminal breach of contract            4148 non-null   int64 \n",
            " 44  weights and measures                   4148 non-null   int64 \n",
            "dtypes: int64(42), object(3)\n",
            "memory usage: 1.4+ MB\n"
          ]
        },
        {
          "output_type": "execute_result",
          "data": {
            "text/plain": [
              "   Unnamed: 0    case_id                                          sentences  \\\n",
              "0           0   1953_A_4  The case of the prosecution was that at or abo...   \n",
              "1           1   1953_H_2  The appellant before us who in the year 1947 w...   \n",
              "2           2   1953_N_8  The prosecution case briefly stated was follow...   \n",
              "3           3  1953_S_46  Cochin Penal Code corresponding to Ss 409 420 ...   \n",
              "4           4  1953_S_47  The prosecution story is that Lalman and Thann...   \n",
              "\n",
              "                                        doc_tags  hurt  murder  theft  \\\n",
              "0                                       ['hurt']     1       0      0   \n",
              "1                                     ['murder']     0       1      0   \n",
              "2                            ['murder', 'theft']     0       1      1   \n",
              "3                         ['wrongful restraint']     0       0      0   \n",
              "4  ['kidnapping', 'murder', 'unlawful assembly']     0       1      0   \n",
              "\n",
              "   wrongful restraint  kidnapping  unlawful assembly  ...  private defence  \\\n",
              "0                   0           0                  0  ...                0   \n",
              "1                   0           0                  0  ...                0   \n",
              "2                   0           0                  0  ...                0   \n",
              "3                   1           0                  0  ...                0   \n",
              "4                   0           1                  1  ...                0   \n",
              "\n",
              "   offence related to armed forces  offence affecting public safety  \\\n",
              "0                                0                                0   \n",
              "1                                0                                0   \n",
              "2                                0                                0   \n",
              "3                                0                                0   \n",
              "4                                0                                0   \n",
              "\n",
              "   criminal intimidation  elections  coin and stamp  cruelty by husband  \\\n",
              "0                      0          0               0                   0   \n",
              "1                      0          0               0                   0   \n",
              "2                      0          0               0                   0   \n",
              "3                      0          0               0                   0   \n",
              "4                      0          0               0                   0   \n",
              "\n",
              "   causing miscarriage  criminal breach of contract  weights and measures  \n",
              "0                    0                            0                     0  \n",
              "1                    0                            0                     0  \n",
              "2                    0                            0                     0  \n",
              "3                    0                            0                     0  \n",
              "4                    0                            0                     0  \n",
              "\n",
              "[5 rows x 45 columns]"
            ],
            "text/html": [
              "\n",
              "  <div id=\"df-77c84126-29e5-4c90-89a4-2da852706788\">\n",
              "    <div class=\"colab-df-container\">\n",
              "      <div>\n",
              "<style scoped>\n",
              "    .dataframe tbody tr th:only-of-type {\n",
              "        vertical-align: middle;\n",
              "    }\n",
              "\n",
              "    .dataframe tbody tr th {\n",
              "        vertical-align: top;\n",
              "    }\n",
              "\n",
              "    .dataframe thead th {\n",
              "        text-align: right;\n",
              "    }\n",
              "</style>\n",
              "<table border=\"1\" class=\"dataframe\">\n",
              "  <thead>\n",
              "    <tr style=\"text-align: right;\">\n",
              "      <th></th>\n",
              "      <th>Unnamed: 0</th>\n",
              "      <th>case_id</th>\n",
              "      <th>sentences</th>\n",
              "      <th>doc_tags</th>\n",
              "      <th>hurt</th>\n",
              "      <th>murder</th>\n",
              "      <th>theft</th>\n",
              "      <th>wrongful restraint</th>\n",
              "      <th>kidnapping</th>\n",
              "      <th>unlawful assembly</th>\n",
              "      <th>...</th>\n",
              "      <th>private defence</th>\n",
              "      <th>offence related to armed forces</th>\n",
              "      <th>offence affecting public safety</th>\n",
              "      <th>criminal intimidation</th>\n",
              "      <th>elections</th>\n",
              "      <th>coin and stamp</th>\n",
              "      <th>cruelty by husband</th>\n",
              "      <th>causing miscarriage</th>\n",
              "      <th>criminal breach of contract</th>\n",
              "      <th>weights and measures</th>\n",
              "    </tr>\n",
              "  </thead>\n",
              "  <tbody>\n",
              "    <tr>\n",
              "      <th>0</th>\n",
              "      <td>0</td>\n",
              "      <td>1953_A_4</td>\n",
              "      <td>The case of the prosecution was that at or abo...</td>\n",
              "      <td>['hurt']</td>\n",
              "      <td>1</td>\n",
              "      <td>0</td>\n",
              "      <td>0</td>\n",
              "      <td>0</td>\n",
              "      <td>0</td>\n",
              "      <td>0</td>\n",
              "      <td>...</td>\n",
              "      <td>0</td>\n",
              "      <td>0</td>\n",
              "      <td>0</td>\n",
              "      <td>0</td>\n",
              "      <td>0</td>\n",
              "      <td>0</td>\n",
              "      <td>0</td>\n",
              "      <td>0</td>\n",
              "      <td>0</td>\n",
              "      <td>0</td>\n",
              "    </tr>\n",
              "    <tr>\n",
              "      <th>1</th>\n",
              "      <td>1</td>\n",
              "      <td>1953_H_2</td>\n",
              "      <td>The appellant before us who in the year 1947 w...</td>\n",
              "      <td>['murder']</td>\n",
              "      <td>0</td>\n",
              "      <td>1</td>\n",
              "      <td>0</td>\n",
              "      <td>0</td>\n",
              "      <td>0</td>\n",
              "      <td>0</td>\n",
              "      <td>...</td>\n",
              "      <td>0</td>\n",
              "      <td>0</td>\n",
              "      <td>0</td>\n",
              "      <td>0</td>\n",
              "      <td>0</td>\n",
              "      <td>0</td>\n",
              "      <td>0</td>\n",
              "      <td>0</td>\n",
              "      <td>0</td>\n",
              "      <td>0</td>\n",
              "    </tr>\n",
              "    <tr>\n",
              "      <th>2</th>\n",
              "      <td>2</td>\n",
              "      <td>1953_N_8</td>\n",
              "      <td>The prosecution case briefly stated was follow...</td>\n",
              "      <td>['murder', 'theft']</td>\n",
              "      <td>0</td>\n",
              "      <td>1</td>\n",
              "      <td>1</td>\n",
              "      <td>0</td>\n",
              "      <td>0</td>\n",
              "      <td>0</td>\n",
              "      <td>...</td>\n",
              "      <td>0</td>\n",
              "      <td>0</td>\n",
              "      <td>0</td>\n",
              "      <td>0</td>\n",
              "      <td>0</td>\n",
              "      <td>0</td>\n",
              "      <td>0</td>\n",
              "      <td>0</td>\n",
              "      <td>0</td>\n",
              "      <td>0</td>\n",
              "    </tr>\n",
              "    <tr>\n",
              "      <th>3</th>\n",
              "      <td>3</td>\n",
              "      <td>1953_S_46</td>\n",
              "      <td>Cochin Penal Code corresponding to Ss 409 420 ...</td>\n",
              "      <td>['wrongful restraint']</td>\n",
              "      <td>0</td>\n",
              "      <td>0</td>\n",
              "      <td>0</td>\n",
              "      <td>1</td>\n",
              "      <td>0</td>\n",
              "      <td>0</td>\n",
              "      <td>...</td>\n",
              "      <td>0</td>\n",
              "      <td>0</td>\n",
              "      <td>0</td>\n",
              "      <td>0</td>\n",
              "      <td>0</td>\n",
              "      <td>0</td>\n",
              "      <td>0</td>\n",
              "      <td>0</td>\n",
              "      <td>0</td>\n",
              "      <td>0</td>\n",
              "    </tr>\n",
              "    <tr>\n",
              "      <th>4</th>\n",
              "      <td>4</td>\n",
              "      <td>1953_S_47</td>\n",
              "      <td>The prosecution story is that Lalman and Thann...</td>\n",
              "      <td>['kidnapping', 'murder', 'unlawful assembly']</td>\n",
              "      <td>0</td>\n",
              "      <td>1</td>\n",
              "      <td>0</td>\n",
              "      <td>0</td>\n",
              "      <td>1</td>\n",
              "      <td>1</td>\n",
              "      <td>...</td>\n",
              "      <td>0</td>\n",
              "      <td>0</td>\n",
              "      <td>0</td>\n",
              "      <td>0</td>\n",
              "      <td>0</td>\n",
              "      <td>0</td>\n",
              "      <td>0</td>\n",
              "      <td>0</td>\n",
              "      <td>0</td>\n",
              "      <td>0</td>\n",
              "    </tr>\n",
              "  </tbody>\n",
              "</table>\n",
              "<p>5 rows × 45 columns</p>\n",
              "</div>\n",
              "      <button class=\"colab-df-convert\" onclick=\"convertToInteractive('df-77c84126-29e5-4c90-89a4-2da852706788')\"\n",
              "              title=\"Convert this dataframe to an interactive table.\"\n",
              "              style=\"display:none;\">\n",
              "        \n",
              "  <svg xmlns=\"http://www.w3.org/2000/svg\" height=\"24px\"viewBox=\"0 0 24 24\"\n",
              "       width=\"24px\">\n",
              "    <path d=\"M0 0h24v24H0V0z\" fill=\"none\"/>\n",
              "    <path d=\"M18.56 5.44l.94 2.06.94-2.06 2.06-.94-2.06-.94-.94-2.06-.94 2.06-2.06.94zm-11 1L8.5 8.5l.94-2.06 2.06-.94-2.06-.94L8.5 2.5l-.94 2.06-2.06.94zm10 10l.94 2.06.94-2.06 2.06-.94-2.06-.94-.94-2.06-.94 2.06-2.06.94z\"/><path d=\"M17.41 7.96l-1.37-1.37c-.4-.4-.92-.59-1.43-.59-.52 0-1.04.2-1.43.59L10.3 9.45l-7.72 7.72c-.78.78-.78 2.05 0 2.83L4 21.41c.39.39.9.59 1.41.59.51 0 1.02-.2 1.41-.59l7.78-7.78 2.81-2.81c.8-.78.8-2.07 0-2.86zM5.41 20L4 18.59l7.72-7.72 1.47 1.35L5.41 20z\"/>\n",
              "  </svg>\n",
              "      </button>\n",
              "      \n",
              "  <style>\n",
              "    .colab-df-container {\n",
              "      display:flex;\n",
              "      flex-wrap:wrap;\n",
              "      gap: 12px;\n",
              "    }\n",
              "\n",
              "    .colab-df-convert {\n",
              "      background-color: #E8F0FE;\n",
              "      border: none;\n",
              "      border-radius: 50%;\n",
              "      cursor: pointer;\n",
              "      display: none;\n",
              "      fill: #1967D2;\n",
              "      height: 32px;\n",
              "      padding: 0 0 0 0;\n",
              "      width: 32px;\n",
              "    }\n",
              "\n",
              "    .colab-df-convert:hover {\n",
              "      background-color: #E2EBFA;\n",
              "      box-shadow: 0px 1px 2px rgba(60, 64, 67, 0.3), 0px 1px 3px 1px rgba(60, 64, 67, 0.15);\n",
              "      fill: #174EA6;\n",
              "    }\n",
              "\n",
              "    [theme=dark] .colab-df-convert {\n",
              "      background-color: #3B4455;\n",
              "      fill: #D2E3FC;\n",
              "    }\n",
              "\n",
              "    [theme=dark] .colab-df-convert:hover {\n",
              "      background-color: #434B5C;\n",
              "      box-shadow: 0px 1px 3px 1px rgba(0, 0, 0, 0.15);\n",
              "      filter: drop-shadow(0px 1px 2px rgba(0, 0, 0, 0.3));\n",
              "      fill: #FFFFFF;\n",
              "    }\n",
              "  </style>\n",
              "\n",
              "      <script>\n",
              "        const buttonEl =\n",
              "          document.querySelector('#df-77c84126-29e5-4c90-89a4-2da852706788 button.colab-df-convert');\n",
              "        buttonEl.style.display =\n",
              "          google.colab.kernel.accessAllowed ? 'block' : 'none';\n",
              "\n",
              "        async function convertToInteractive(key) {\n",
              "          const element = document.querySelector('#df-77c84126-29e5-4c90-89a4-2da852706788');\n",
              "          const dataTable =\n",
              "            await google.colab.kernel.invokeFunction('convertToInteractive',\n",
              "                                                     [key], {});\n",
              "          if (!dataTable) return;\n",
              "\n",
              "          const docLinkHtml = 'Like what you see? Visit the ' +\n",
              "            '<a target=\"_blank\" href=https://colab.research.google.com/notebooks/data_table.ipynb>data table notebook</a>'\n",
              "            + ' to learn more about interactive tables.';\n",
              "          element.innerHTML = '';\n",
              "          dataTable['output_type'] = 'display_data';\n",
              "          await google.colab.output.renderOutput(dataTable, element);\n",
              "          const docLink = document.createElement('div');\n",
              "          docLink.innerHTML = docLinkHtml;\n",
              "          element.appendChild(docLink);\n",
              "        }\n",
              "      </script>\n",
              "    </div>\n",
              "  </div>\n",
              "  "
            ]
          },
          "metadata": {},
          "execution_count": 58
        }
      ],
      "source": [
        "df = pd.read_csv(r\"/content/Train-Doc.csv\", encoding='iso-8859-1')\n",
        "df.sentences=df.sentences.astype(str)\n",
        "#df = pd.read_csv(\"Train-Doc.csv\", encoding='iso-8859-1')\n",
        "df.info() ## info of the dataframe ##\n",
        "df.head(n=5) ## top-5 values of the dataframe ##"
      ]
    },
    {
      "cell_type": "code",
      "execution_count": null,
      "metadata": {
        "colab": {
          "base_uri": "https://localhost:8080/"
        },
        "id": "Syd1zdCeGZGa",
        "outputId": "77ce17a8-c477-42ad-9ba6-37c5b41c1f7a"
      },
      "outputs": [
        {
          "output_type": "execute_result",
          "data": {
            "text/plain": [
              "Unnamed: 0                               0\n",
              "case_id                                  0\n",
              "sentences                                0\n",
              "doc_tags                                 0\n",
              "hurt                                     0\n",
              "murder                                   0\n",
              "theft                                    0\n",
              "wrongful restraint                       0\n",
              "kidnapping                               0\n",
              "unlawful assembly                        0\n",
              "general explanations                     0\n",
              "lawful authority of public servant       0\n",
              "introduction                             0\n",
              "criminal force                           0\n",
              "criminal breach of trust                 0\n",
              "cheating                                 0\n",
              "offence by public servant                0\n",
              "criminal conspiracy                      0\n",
              "forgery                                  0\n",
              "abetment                                 0\n",
              "robbery                                  0\n",
              "offence against public justice           0\n",
              "extortion                                0\n",
              "criminal trespass                        0\n",
              "marriage offence                         0\n",
              "sexual offence                           0\n",
              "offence related to religion              0\n",
              "defamation                               0\n",
              "punishments                              0\n",
              "general exceptions                       0\n",
              "criminal misappropriation of property    0\n",
              "attempt to commit offence                0\n",
              "receiving stolen property                0\n",
              "mischief                                 0\n",
              "offence against state                    0\n",
              "private defence                          0\n",
              "offence related to armed forces          0\n",
              "offence affecting public safety          0\n",
              "criminal intimidation                    0\n",
              "elections                                0\n",
              "coin and stamp                           0\n",
              "cruelty by husband                       0\n",
              "causing miscarriage                      0\n",
              "criminal breach of contract              0\n",
              "weights and measures                     0\n",
              "dtype: int64"
            ]
          },
          "metadata": {},
          "execution_count": 59
        }
      ],
      "source": [
        "df_data = df.sample(frac=1, replace=True, random_state=1)\n",
        "## Check for Null Values ##\n",
        "df_data.isnull().sum()"
      ]
    },
    {
      "cell_type": "markdown",
      "metadata": {
        "id": "RBp9L3lfGpJy"
      },
      "source": [
        "**Word Preprocessing**"
      ]
    },
    {
      "cell_type": "code",
      "execution_count": null,
      "metadata": {
        "colab": {
          "base_uri": "https://localhost:8080/"
        },
        "id": "DwpjlRpYG_j7",
        "outputId": "36dd0e27-4bd5-469d-b529-364cb5cd657d"
      },
      "outputs": [
        {
          "output_type": "stream",
          "name": "stderr",
          "text": [
            "[nltk_data] Downloading package stopwords to /root/nltk_data...\n",
            "[nltk_data]   Unzipping corpora/stopwords.zip.\n"
          ]
        },
        {
          "output_type": "execute_result",
          "data": {
            "text/plain": [
              "True"
            ]
          },
          "metadata": {},
          "execution_count": 4
        }
      ],
      "source": [
        "import nltk\n",
        "nltk.download('stopwords')"
      ]
    },
    {
      "cell_type": "code",
      "execution_count": null,
      "metadata": {
        "colab": {
          "base_uri": "https://localhost:8080/"
        },
        "id": "kWKlQ5mKGnOB",
        "outputId": "902626d4-c6c0-481c-e267-5772b8c6e472"
      },
      "outputs": [
        {
          "output_type": "stream",
          "name": "stdout",
          "text": [
            "['i', 'me', 'my', 'myself', 'we', 'our', 'ours', 'ourselves', 'you', \"you're\", \"you've\", \"you'll\", \"you'd\", 'your', 'yours', 'yourself', 'yourselves', 'he', 'him', 'his', 'himself', 'she', \"she's\", 'her', 'hers', 'herself', 'it', \"it's\", 'its', 'itself', 'they', 'them', 'their', 'theirs', 'themselves', 'what', 'which', 'who', 'whom', 'this', 'that', \"that'll\", 'these', 'those', 'am', 'is', 'are', 'was', 'were', 'be', 'been', 'being', 'have', 'has', 'had', 'having', 'do', 'does', 'did', 'doing', 'a', 'an', 'the', 'but', 'if', 'or', 'because', 'as', 'until', 'while', 'of', 'at', 'by', 'with', 'about', 'against', 'between', 'into', 'through', 'during', 'before', 'after', 'above', 'below', 'to', 'from', 'up', 'down', 'in', 'out', 'on', 'off', 'over', 'under', 'again', 'further', 'then', 'once', 'here', 'there', 'when', 'where', 'why', 'how', 'all', 'any', 'both', 'each', 'few', 'more', 'most', 'other', 'some', 'such', 'no', 'nor', 'only', 'own', 'same', 'so', 'than', 'too', 'very', 's', 't', 'can', 'will', 'just', 'don', \"don't\", 'should', \"should've\", 'now', 'd', 'll', 'm', 'o', 're', 've', 'y', 'ain', 'aren', \"aren't\", 'couldn', \"couldn't\", 'didn', \"didn't\", 'doesn', \"doesn't\", 'hadn', \"hadn't\", 'hasn', \"hasn't\", 'haven', \"haven't\", 'isn', \"isn't\", 'ma', 'mightn', \"mightn't\", 'mustn', \"mustn't\", 'needn', \"needn't\", 'shan', \"shan't\", 'shouldn', \"shouldn't\", 'wasn', \"wasn't\", 'weren', \"weren't\", 'won', \"won't\", 'wouldn', \"wouldn't\"]\n"
          ]
        }
      ],
      "source": [
        "import string\n",
        "wpt = nltk.WordPunctTokenizer()\n",
        "stop_words_init = nltk.corpus.stopwords.words('english')\n",
        "stop_words = [i for i in stop_words_init if i not in ('not','and','for')]\n",
        "print(stop_words)"
      ]
    },
    {
      "cell_type": "code",
      "execution_count": null,
      "metadata": {
        "id": "2YGX51IiHG9P"
      },
      "outputs": [],
      "source": [
        "def normalize_text(text):\n",
        "    text = text.lower()\n",
        "    text = re.sub('\\[.*?\\]', ' ', text)\n",
        "    text = re.sub('https?://\\S+|www\\.\\S+', ' ', text)\n",
        "    text = re.sub('<.*?>+', ' ', text)\n",
        "    text = re.sub('[%s]' % re.escape(string.punctuation), ' ', text)\n",
        "    text = re.sub('\\n', ' ', text)\n",
        "    text = re.sub('\\w*\\d\\w*', ' ', text)\n",
        "    return text"
      ]
    },
    {
      "cell_type": "code",
      "execution_count": null,
      "metadata": {
        "colab": {
          "base_uri": "https://localhost:8080/"
        },
        "id": "_rp3Ga_bEgXC",
        "outputId": "b818ad20-6e1a-4eee-b469-5dd3fb655f8a"
      },
      "outputs": [
        {
          "output_type": "execute_result",
          "data": {
            "text/plain": [
              "235     The facts found by the Court of Session for co...\n",
              "3980    I was sleeping in my house at that time Then m...\n",
              "905     30 noon and that action of the appellant and h...\n",
              "2763    1999 at Patna according to the Muslim Law The ...\n",
              "2895    The prosecution case as unfolded before the tr...\n",
              "Name: sentences, dtype: object"
            ]
          },
          "metadata": {},
          "execution_count": 7
        }
      ],
      "source": [
        "df_data['sentences'].head(n=5)"
      ]
    },
    {
      "cell_type": "code",
      "execution_count": null,
      "metadata": {
        "colab": {
          "base_uri": "https://localhost:8080/"
        },
        "id": "1JiDBhtDHJbo",
        "outputId": "eb2e91a8-cf08-4c90-8ae7-fadd9456699b"
      },
      "outputs": [
        {
          "output_type": "execute_result",
          "data": {
            "text/plain": [
              "235     the facts found by the court of session for co...\n",
              "3980    i was sleeping in my house at that time then m...\n",
              "905       noon and that action of the appellant and hi...\n",
              "2763      at patna according to the muslim law the oth...\n",
              "2895    the prosecution case as unfolded before the tr...\n",
              "Name: sentences, dtype: object"
            ]
          },
          "metadata": {},
          "execution_count": 8
        }
      ],
      "source": [
        "df_data['sentences'] = df_data['sentences'].apply(lambda x: normalize_text(x))\n",
        "\n",
        "df_data['sentences'].head(n=5)"
      ]
    },
    {
      "cell_type": "code",
      "execution_count": null,
      "metadata": {
        "colab": {
          "base_uri": "https://localhost:8080/",
          "height": 206
        },
        "id": "KcZ_k0PuHcqg",
        "outputId": "2f244c39-c3dc-45b2-cfaf-5f033ffee515"
      },
      "outputs": [
        {
          "output_type": "execute_result",
          "data": {
            "text/plain": [
              "                                           sentences\n",
              "0  the facts found by the court of session for co...\n",
              "1  i was sleeping in my house at that time then m...\n",
              "2    noon and that action of the appellant and hi...\n",
              "3    at patna according to the muslim law the oth...\n",
              "4  the prosecution case as unfolded before the tr..."
            ],
            "text/html": [
              "\n",
              "  <div id=\"df-2c35263b-0ffa-4073-8204-3e80d018a64e\">\n",
              "    <div class=\"colab-df-container\">\n",
              "      <div>\n",
              "<style scoped>\n",
              "    .dataframe tbody tr th:only-of-type {\n",
              "        vertical-align: middle;\n",
              "    }\n",
              "\n",
              "    .dataframe tbody tr th {\n",
              "        vertical-align: top;\n",
              "    }\n",
              "\n",
              "    .dataframe thead th {\n",
              "        text-align: right;\n",
              "    }\n",
              "</style>\n",
              "<table border=\"1\" class=\"dataframe\">\n",
              "  <thead>\n",
              "    <tr style=\"text-align: right;\">\n",
              "      <th></th>\n",
              "      <th>sentences</th>\n",
              "    </tr>\n",
              "  </thead>\n",
              "  <tbody>\n",
              "    <tr>\n",
              "      <th>0</th>\n",
              "      <td>the facts found by the court of session for co...</td>\n",
              "    </tr>\n",
              "    <tr>\n",
              "      <th>1</th>\n",
              "      <td>i was sleeping in my house at that time then m...</td>\n",
              "    </tr>\n",
              "    <tr>\n",
              "      <th>2</th>\n",
              "      <td>noon and that action of the appellant and hi...</td>\n",
              "    </tr>\n",
              "    <tr>\n",
              "      <th>3</th>\n",
              "      <td>at patna according to the muslim law the oth...</td>\n",
              "    </tr>\n",
              "    <tr>\n",
              "      <th>4</th>\n",
              "      <td>the prosecution case as unfolded before the tr...</td>\n",
              "    </tr>\n",
              "  </tbody>\n",
              "</table>\n",
              "</div>\n",
              "      <button class=\"colab-df-convert\" onclick=\"convertToInteractive('df-2c35263b-0ffa-4073-8204-3e80d018a64e')\"\n",
              "              title=\"Convert this dataframe to an interactive table.\"\n",
              "              style=\"display:none;\">\n",
              "        \n",
              "  <svg xmlns=\"http://www.w3.org/2000/svg\" height=\"24px\"viewBox=\"0 0 24 24\"\n",
              "       width=\"24px\">\n",
              "    <path d=\"M0 0h24v24H0V0z\" fill=\"none\"/>\n",
              "    <path d=\"M18.56 5.44l.94 2.06.94-2.06 2.06-.94-2.06-.94-.94-2.06-.94 2.06-2.06.94zm-11 1L8.5 8.5l.94-2.06 2.06-.94-2.06-.94L8.5 2.5l-.94 2.06-2.06.94zm10 10l.94 2.06.94-2.06 2.06-.94-2.06-.94-.94-2.06-.94 2.06-2.06.94z\"/><path d=\"M17.41 7.96l-1.37-1.37c-.4-.4-.92-.59-1.43-.59-.52 0-1.04.2-1.43.59L10.3 9.45l-7.72 7.72c-.78.78-.78 2.05 0 2.83L4 21.41c.39.39.9.59 1.41.59.51 0 1.02-.2 1.41-.59l7.78-7.78 2.81-2.81c.8-.78.8-2.07 0-2.86zM5.41 20L4 18.59l7.72-7.72 1.47 1.35L5.41 20z\"/>\n",
              "  </svg>\n",
              "      </button>\n",
              "      \n",
              "  <style>\n",
              "    .colab-df-container {\n",
              "      display:flex;\n",
              "      flex-wrap:wrap;\n",
              "      gap: 12px;\n",
              "    }\n",
              "\n",
              "    .colab-df-convert {\n",
              "      background-color: #E8F0FE;\n",
              "      border: none;\n",
              "      border-radius: 50%;\n",
              "      cursor: pointer;\n",
              "      display: none;\n",
              "      fill: #1967D2;\n",
              "      height: 32px;\n",
              "      padding: 0 0 0 0;\n",
              "      width: 32px;\n",
              "    }\n",
              "\n",
              "    .colab-df-convert:hover {\n",
              "      background-color: #E2EBFA;\n",
              "      box-shadow: 0px 1px 2px rgba(60, 64, 67, 0.3), 0px 1px 3px 1px rgba(60, 64, 67, 0.15);\n",
              "      fill: #174EA6;\n",
              "    }\n",
              "\n",
              "    [theme=dark] .colab-df-convert {\n",
              "      background-color: #3B4455;\n",
              "      fill: #D2E3FC;\n",
              "    }\n",
              "\n",
              "    [theme=dark] .colab-df-convert:hover {\n",
              "      background-color: #434B5C;\n",
              "      box-shadow: 0px 1px 3px 1px rgba(0, 0, 0, 0.15);\n",
              "      filter: drop-shadow(0px 1px 2px rgba(0, 0, 0, 0.3));\n",
              "      fill: #FFFFFF;\n",
              "    }\n",
              "  </style>\n",
              "\n",
              "      <script>\n",
              "        const buttonEl =\n",
              "          document.querySelector('#df-2c35263b-0ffa-4073-8204-3e80d018a64e button.colab-df-convert');\n",
              "        buttonEl.style.display =\n",
              "          google.colab.kernel.accessAllowed ? 'block' : 'none';\n",
              "\n",
              "        async function convertToInteractive(key) {\n",
              "          const element = document.querySelector('#df-2c35263b-0ffa-4073-8204-3e80d018a64e');\n",
              "          const dataTable =\n",
              "            await google.colab.kernel.invokeFunction('convertToInteractive',\n",
              "                                                     [key], {});\n",
              "          if (!dataTable) return;\n",
              "\n",
              "          const docLinkHtml = 'Like what you see? Visit the ' +\n",
              "            '<a target=\"_blank\" href=https://colab.research.google.com/notebooks/data_table.ipynb>data table notebook</a>'\n",
              "            + ' to learn more about interactive tables.';\n",
              "          element.innerHTML = '';\n",
              "          dataTable['output_type'] = 'display_data';\n",
              "          await google.colab.output.renderOutput(dataTable, element);\n",
              "          const docLink = document.createElement('div');\n",
              "          docLink.innerHTML = docLinkHtml;\n",
              "          element.appendChild(docLink);\n",
              "        }\n",
              "      </script>\n",
              "    </div>\n",
              "  </div>\n",
              "  "
            ]
          },
          "metadata": {},
          "execution_count": 9
        }
      ],
      "source": [
        "processed_list = []\n",
        "for j in df_data['sentences']:\n",
        "    process = j.replace('...','')\n",
        "    processed_list.append(process)\n",
        "    \n",
        "df_processed = pd.DataFrame(processed_list)\n",
        "df_processed.columns = ['sentences']\n",
        "df_processed.head(n=5)"
      ]
    },
    {
      "cell_type": "markdown",
      "metadata": {
        "id": "GA9ISq2zH6AK"
      },
      "source": [
        " Now, checking the label's availabel per classes"
      ]
    },
    {
      "cell_type": "code",
      "execution_count": null,
      "metadata": {
        "id": "zTOGFi2sH4ej"
      },
      "outputs": [],
      "source": [
        "labels=['hurt','murder','theft','wrongful restraint','kidnapping','unlawful assembly','general explanations','lawful authority of public servant','introduction','criminal force','criminal breach of trust','cheating','offence by public servant','criminal conspiracy','forgery','abetment','robbery','offence against public justice','extortion','criminal trespass','marriage offence','sexual offence','offence related to religion','defamation','punishments','general exceptions','criminal misappropriation of property','attempt to commit offence','receiving stolen property','mischief','offence against state','private defence','offence related to armed forces','offence affecting public safety','criminal intimidation','elections','coin and stamp','cruelty by husband','causing miscarriage','criminal breach of contract','weights and measures']\n",
        "targets=df_data[labels].values"
      ]
    },
    {
      "cell_type": "code",
      "execution_count": null,
      "metadata": {
        "colab": {
          "base_uri": "https://localhost:8080/",
          "height": 343
        },
        "id": "-2d9U-UmKcPg",
        "outputId": "a1e473fe-c3fc-45c8-ac99-e575ae93c639"
      },
      "outputs": [
        {
          "output_type": "display_data",
          "data": {
            "text/plain": [
              "<Figure size 4000x1000 with 1 Axes>"
            ],
            "image/png": "[encoded data removed]"
          },
          "metadata": {}
        }
      ],
      "source": [
        "import matplotlib.pyplot as plt\n",
        "\n",
        "val_counts = df_data[labels].sum()\n",
        "plt.figure(figsize=(40,10))\n",
        "ax = sns.barplot(x=val_counts.index,y= val_counts.values, alpha=0.8)"
      ]
    },
    {
      "cell_type": "code",
      "execution_count": null,
      "metadata": {
        "colab": {
          "base_uri": "https://localhost:8080/"
        },
        "id": "lRcn07Tnh6Jz",
        "outputId": "a0d7113c-4beb-4594-ccc1-f18a36563cc3"
      },
      "outputs": [
        {
          "output_type": "stream",
          "name": "stdout",
          "text": [
            "Index(['hurt', 'murder', 'theft', 'wrongful restraint', 'kidnapping',\n",
            "       'unlawful assembly', 'general explanations',\n",
            "       'lawful authority of public servant', 'introduction', 'criminal force',\n",
            "       'criminal breach of trust', 'cheating', 'offence by public servant',\n",
            "       'criminal conspiracy', 'forgery', 'abetment', 'robbery',\n",
            "       'offence against public justice', 'extortion', 'criminal trespass',\n",
            "       'marriage offence', 'sexual offence', 'offence related to religion',\n",
            "       'defamation', 'punishments', 'general exceptions',\n",
            "       'criminal misappropriation of property', 'attempt to commit offence',\n",
            "       'receiving stolen property', 'mischief', 'offence against state',\n",
            "       'private defence', 'offence related to armed forces',\n",
            "       'offence affecting public safety', 'criminal intimidation', 'elections',\n",
            "       'coin and stamp', 'cruelty by husband', 'causing miscarriage',\n",
            "       'criminal breach of contract', 'weights and measures'],\n",
            "      dtype='object')\n",
            "hurt                                      855\n",
            "murder                                   2877\n",
            "theft                                     146\n",
            "wrongful restraint                        260\n",
            "kidnapping                                248\n",
            "unlawful assembly                         912\n",
            "general explanations                     1507\n",
            "lawful authority of public servant         62\n",
            "introduction                              208\n",
            "criminal force                            119\n",
            "criminal breach of trust                  257\n",
            "cheating                                  287\n",
            "offence by public servant                 169\n",
            "criminal conspiracy                       541\n",
            "forgery                                   224\n",
            "abetment                                  307\n",
            "robbery                                   249\n",
            "offence against public justice            517\n",
            "extortion                                  51\n",
            "criminal trespass                         313\n",
            "marriage offence                           30\n",
            "sexual offence                            291\n",
            "offence related to religion                 3\n",
            "defamation                                 32\n",
            "punishments                                38\n",
            "general exceptions                         51\n",
            "criminal misappropriation of property      45\n",
            "attempt to commit offence                  55\n",
            "receiving stolen property                  83\n",
            "mischief                                  158\n",
            "offence against state                      37\n",
            "private defence                            59\n",
            "offence related to armed forces            16\n",
            "offence affecting public safety            61\n",
            "criminal intimidation                     173\n",
            "elections                                  13\n",
            "coin and stamp                              8\n",
            "cruelty by husband                        305\n",
            "causing miscarriage                        24\n",
            "criminal breach of contract                 1\n",
            "weights and measures                        1\n",
            "dtype: int64\n"
          ]
        }
      ],
      "source": [
        "print(val_counts.index)\n",
        "print(val_counts)"
      ]
    },
    {
      "cell_type": "code",
      "execution_count": null,
      "metadata": {
        "id": "_s0gMCbhK2Ku"
      },
      "outputs": [],
      "source": [
        "rects = ax.patches\n",
        "labels = val_counts.values\n",
        "for rect, label in zip(rects, labels):\n",
        "    height = rect.get_height()\n",
        "    ax.text(rect.get_x() + rect.get_width()/2, height+5, label, ha=\"center\", va=\"bottom\")\n",
        "\n",
        "plt.show()"
      ]
    },
    {
      "cell_type": "code",
      "execution_count": null,
      "metadata": {
        "id": "w5ni-S_pvFHJ"
      },
      "outputs": [],
      "source": [
        "X = list(df_processed['sentences'])\n",
        "labels=df_data[['hurt','murder','theft','wrongful restraint','kidnapping','unlawful assembly','general explanations','lawful authority of public servant','introduction','criminal force','criminal breach of trust','cheating','offence by public servant','criminal conspiracy','forgery','abetment','robbery','offence against public justice','extortion','criminal trespass','marriage offence','sexual offence','offence related to religion','defamation','punishments','general exceptions','criminal misappropriation of property','attempt to commit offence','receiving stolen property','mischief','offence against state','private defence','offence related to armed forces','offence affecting public safety','criminal intimidation','elections','coin and stamp','cruelty by husband','causing miscarriage','criminal breach of contract','weights and measures']\n",
        "]\n",
        "y= labels.values"
      ]
    },
    {
      "cell_type": "code",
      "execution_count": null,
      "metadata": {
        "id": "IndxGRSzFkUk"
      },
      "outputs": [],
      "source": [
        "import numpy as np\n",
        "import pandas as pd\n",
        "\n",
        "def get_classes(y) -> int:\n",
        "    \"\"\"\n",
        "    Get the total number of classes.\n",
        "    Args:\n",
        "        y : The labels list of the data.\n",
        "    Returns:\n",
        "        int: Number of total classes\n",
        "    \"\"\"\n",
        "\n",
        "    return int(y.shape[1])\n",
        "\n",
        "\n",
        "def get_sum_classes(y) -> list:\n",
        "    \"\"\"\n",
        "    Get the number of samples per class\n",
        "    Args:\n",
        "        y : Labels of the data\n",
        "    Returns:\n",
        "        list: [description]\n",
        "    \"\"\"\n",
        "\n",
        "    if isinstance(y, pd.DataFrame):\n",
        "        return pd.DataFrame(y).sum().tolist()\n",
        "    if isinstance(y, np.ndarray):\n",
        "        return y.sum(axis=0)"
      ]
    },
    {
      "cell_type": "code",
      "execution_count": null,
      "metadata": {
        "id": "RiAOoSvlLkrN"
      },
      "outputs": [],
      "source": [
        "def get_tail_label(df):\n",
        "    \"\"\"\n",
        "    Give tail label colums of the given target dataframe\n",
        "    \n",
        "    args\n",
        "    df: pandas.DataFrame, target label df whose tail label has to identified\n",
        "    \n",
        "    return\n",
        "    tail_label: list, a list containing column name of all the tail label\n",
        "    \"\"\"\n",
        "    columns = df.columns\n",
        "    n = len(columns)\n",
        "    irpl = np.zeros(n)\n",
        "    for column in range(n):\n",
        "        irpl[column] = df[columns[column]].value_counts()[1]\n",
        "    irpl = max(irpl)/irpl\n",
        "    mir = np.average(irpl)\n",
        "    tail_label = []\n",
        "    for i in range(n):\n",
        "        if irpl[i] > mir:\n",
        "            tail_label.append(columns[i])\n",
        "    return tail_label"
      ]
    },
    {
      "cell_type": "code",
      "source": [
        "def get_index(df):\n",
        "  \"\"\"\n",
        "  give the index of all tail_label rows\n",
        "  args\n",
        "  df: pandas.DataFrame, target label df from which index for tail label has to identified\n",
        "    \n",
        "  return\n",
        "  index: list, a list containing index number of all the tail label\n",
        "  \"\"\"\n",
        "  tail_labels = get_tail_label(df)\n",
        "  index = set()\n",
        "  for tail_label in tail_labels:\n",
        "    sub_index = set(df[df[tail_label]==1].index)\n",
        "    index = index.union(sub_index)\n",
        "  return list(index)"
      ],
      "metadata": {
        "id": "FSWhAggKqMTR"
      },
      "execution_count": null,
      "outputs": []
    },
    {
      "cell_type": "code",
      "execution_count": null,
      "metadata": {
        "id": "VY5ECPcZLX-n"
      },
      "outputs": [],
      "source": [
        "def get_minority_instace(X, y):\n",
        "    \"\"\"\n",
        "    Give minority dataframe containing all the tail labels\n",
        "    \n",
        "    args\n",
        "    X: pandas.DataFrame, the feature vector dataframe\n",
        "    y: pandas.DataFrame, the target vector dataframe\n",
        "    \n",
        "    return\n",
        "    X_sub: pandas.DataFrame, the feature vector minority dataframe\n",
        "    y_sub: pandas.DataFrame, the target vector minority dataframe\n",
        "    \"\"\"\n",
        "    index = get_index(y)\n",
        "    X_sub = X[X.index.isin(index)].reset_index(drop = True)\n",
        "    y_sub = y[y.index.isin(index)].reset_index(drop = True)\n",
        "    return X_sub, y_sub"
      ]
    },
    {
      "cell_type": "code",
      "execution_count": null,
      "metadata": {
        "id": "l_fLSLJ8LeeK"
      },
      "outputs": [],
      "source": [
        "def nearest_neighbour(X):\n",
        "    \"\"\"\n",
        "    Give index of 5 nearest neighbor of all the instance\n",
        "    \n",
        "    args\n",
        "    X: np.array, array whose nearest neighbor has to find\n",
        "    \n",
        "    return\n",
        "    indices: list of list, index of 5 NN of each element in X\n",
        "    \"\"\"\n",
        "    nbs=NearestNeighbors(n_neighbors=5,metric='euclidean',algorithm='kd_tree').fit(X)\n",
        "    euclidean,indices= nbs.kneighbors(X)\n",
        "    return indices"
      ]
    },
    {
      "cell_type": "code",
      "execution_count": null,
      "metadata": {
        "id": "_dREgT5ULRyj"
      },
      "outputs": [],
      "source": [
        "def MLSMOTE(X,y, n_sample):\n",
        "    \"\"\"\n",
        "    Give the augmented data using MLSMOTE algorithm\n",
        "    \n",
        "    args\n",
        "    X: pandas.DataFrame, input vector DataFrame\n",
        "    y: pandas.DataFrame, feature vector dataframe\n",
        "    n_sample: int, number of newly generated sample\n",
        "    \n",
        "    return\n",
        "    new_X: pandas.DataFrame, augmented feature vector data\n",
        "    target: pandas.DataFrame, augmented target vector data\n",
        "    \"\"\"\n",
        "    indices2 = nearest_neighbour(X)\n",
        "    n = len(indices2)\n",
        "    new_X = np.zeros((n_sample, X.shape[1]))\n",
        "    target = np.zeros((n_sample, y.shape[1]))\n",
        "    for i in range(n_sample):\n",
        "        reference = random.randint(0,n-1)\n",
        "        neighbour = random.choice(indices2[reference,1:])\n",
        "        all_point = indices2[reference]\n",
        "        nn_df = y[y.index.isin(all_point)]\n",
        "        ser = nn_df.sum(axis = 0, skipna = True)\n",
        "        target[i] = np.array([1 if val>2 else 0 for val in ser])\n",
        "        ratio = random.random()\n",
        "        gap = X.loc[reference,:] - X.loc[neighbour,:]\n",
        "        new_X[i] = np.array(X.loc[reference,:] + ratio * gap)\n",
        "    new_X = pd.DataFrame(new_X, columns=X.columns)\n",
        "    target = pd.DataFrame(target, columns=y.columns)\n",
        "    new_X = pd.concat([X, new_X], axis=0)\n",
        "    target = pd.concat([y, target], axis=0)\n",
        "    return new_X, target"
      ]
    },
    {
      "cell_type": "code",
      "execution_count": null,
      "metadata": {
        "id": "VnruJXc1MEIp"
      },
      "outputs": [],
      "source": [
        "from sklearn.model_selection import train_test_split\n",
        "\n",
        "x_train, x_test, y_train, y_test = train_test_split(X, y,\n",
        "                                                    test_size=0.15, train_size=0.85)"
      ]
    },
    {
      "cell_type": "code",
      "source": [
        "from imblearn.under_sampling import NearMiss\n",
        "sm=NearMiss()\n",
        "x_train_res,y_train_res=sm.fit_resample(x_train,y_train)"
      ],
      "metadata": {
        "colab": {
          "base_uri": "https://localhost:8080/",
          "height": 395
        },
        "id": "hkpuNU-3_L4z",
        "outputId": "0aaef69a-bfa8-4648-8f53-180a56d8108f"
      },
      "execution_count": null,
      "outputs": [
        {
          "output_type": "error",
          "ename": "ValueError",
          "evalue": "ignored",
          "traceback": [
            "\u001b[0;31m---------------------------------------------------------------------------\u001b[0m",
            "\u001b[0;31mValueError\u001b[0m                                Traceback (most recent call last)",
            "\u001b[0;32m<ipython-input-24-36ec9cf09bfc>\u001b[0m in \u001b[0;36m<cell line: 3>\u001b[0;34m()\u001b[0m\n\u001b[1;32m      1\u001b[0m \u001b[0;32mfrom\u001b[0m \u001b[0mimblearn\u001b[0m\u001b[0;34m.\u001b[0m\u001b[0munder_sampling\u001b[0m \u001b[0;32mimport\u001b[0m \u001b[0mNearMiss\u001b[0m\u001b[0;34m\u001b[0m\u001b[0;34m\u001b[0m\u001b[0m\n\u001b[1;32m      2\u001b[0m \u001b[0msm\u001b[0m\u001b[0;34m=\u001b[0m\u001b[0mNearMiss\u001b[0m\u001b[0;34m(\u001b[0m\u001b[0;34m)\u001b[0m\u001b[0;34m\u001b[0m\u001b[0;34m\u001b[0m\u001b[0m\n\u001b[0;32m----> 3\u001b[0;31m \u001b[0mx_train_res\u001b[0m\u001b[0;34m,\u001b[0m\u001b[0my_train_res\u001b[0m\u001b[0;34m=\u001b[0m\u001b[0msm\u001b[0m\u001b[0;34m.\u001b[0m\u001b[0mfit_resample\u001b[0m\u001b[0;34m(\u001b[0m\u001b[0mx_train\u001b[0m\u001b[0;34m,\u001b[0m\u001b[0my_train\u001b[0m\u001b[0;34m)\u001b[0m\u001b[0;34m\u001b[0m\u001b[0;34m\u001b[0m\u001b[0m\n\u001b[0m",
            "\u001b[0;32m/usr/local/lib/python3.10/dist-packages/imblearn/base.py\u001b[0m in \u001b[0;36mfit_resample\u001b[0;34m(self, X, y)\u001b[0m\n\u001b[1;32m    201\u001b[0m         \"\"\"\n\u001b[1;32m    202\u001b[0m         \u001b[0mself\u001b[0m\u001b[0;34m.\u001b[0m\u001b[0m_validate_params\u001b[0m\u001b[0;34m(\u001b[0m\u001b[0;34m)\u001b[0m\u001b[0;34m\u001b[0m\u001b[0;34m\u001b[0m\u001b[0m\n\u001b[0;32m--> 203\u001b[0;31m         \u001b[0;32mreturn\u001b[0m \u001b[0msuper\u001b[0m\u001b[0;34m(\u001b[0m\u001b[0;34m)\u001b[0m\u001b[0;34m.\u001b[0m\u001b[0mfit_resample\u001b[0m\u001b[0;34m(\u001b[0m\u001b[0mX\u001b[0m\u001b[0;34m,\u001b[0m \u001b[0my\u001b[0m\u001b[0;34m)\u001b[0m\u001b[0;34m\u001b[0m\u001b[0;34m\u001b[0m\u001b[0m\n\u001b[0m\u001b[1;32m    204\u001b[0m \u001b[0;34m\u001b[0m\u001b[0m\n\u001b[1;32m    205\u001b[0m     \u001b[0;32mdef\u001b[0m \u001b[0m_more_tags\u001b[0m\u001b[0;34m(\u001b[0m\u001b[0mself\u001b[0m\u001b[0;34m)\u001b[0m\u001b[0;34m:\u001b[0m\u001b[0;34m\u001b[0m\u001b[0;34m\u001b[0m\u001b[0m\n",
            "\u001b[0;32m/usr/local/lib/python3.10/dist-packages/imblearn/base.py\u001b[0m in \u001b[0;36mfit_resample\u001b[0;34m(self, X, y)\u001b[0m\n\u001b[1;32m     80\u001b[0m         \u001b[0mcheck_classification_targets\u001b[0m\u001b[0;34m(\u001b[0m\u001b[0my\u001b[0m\u001b[0;34m)\u001b[0m\u001b[0;34m\u001b[0m\u001b[0;34m\u001b[0m\u001b[0m\n\u001b[1;32m     81\u001b[0m         \u001b[0marrays_transformer\u001b[0m \u001b[0;34m=\u001b[0m \u001b[0mArraysTransformer\u001b[0m\u001b[0;34m(\u001b[0m\u001b[0mX\u001b[0m\u001b[0;34m,\u001b[0m \u001b[0my\u001b[0m\u001b[0;34m)\u001b[0m\u001b[0;34m\u001b[0m\u001b[0;34m\u001b[0m\u001b[0m\n\u001b[0;32m---> 82\u001b[0;31m         \u001b[0mX\u001b[0m\u001b[0;34m,\u001b[0m \u001b[0my\u001b[0m\u001b[0;34m,\u001b[0m \u001b[0mbinarize_y\u001b[0m \u001b[0;34m=\u001b[0m \u001b[0mself\u001b[0m\u001b[0;34m.\u001b[0m\u001b[0m_check_X_y\u001b[0m\u001b[0;34m(\u001b[0m\u001b[0mX\u001b[0m\u001b[0;34m,\u001b[0m \u001b[0my\u001b[0m\u001b[0;34m)\u001b[0m\u001b[0;34m\u001b[0m\u001b[0;34m\u001b[0m\u001b[0m\n\u001b[0m\u001b[1;32m     83\u001b[0m \u001b[0;34m\u001b[0m\u001b[0m\n\u001b[1;32m     84\u001b[0m         self.sampling_strategy_ = check_sampling_strategy(\n",
            "\u001b[0;32m/usr/local/lib/python3.10/dist-packages/imblearn/base.py\u001b[0m in \u001b[0;36m_check_X_y\u001b[0;34m(self, X, y, accept_sparse)\u001b[0m\n\u001b[1;32m    153\u001b[0m         \u001b[0;32mif\u001b[0m \u001b[0maccept_sparse\u001b[0m \u001b[0;32mis\u001b[0m \u001b[0;32mNone\u001b[0m\u001b[0;34m:\u001b[0m\u001b[0;34m\u001b[0m\u001b[0;34m\u001b[0m\u001b[0m\n\u001b[1;32m    154\u001b[0m             \u001b[0maccept_sparse\u001b[0m \u001b[0;34m=\u001b[0m \u001b[0;34m[\u001b[0m\u001b[0;34m\"csr\"\u001b[0m\u001b[0;34m,\u001b[0m \u001b[0;34m\"csc\"\u001b[0m\u001b[0;34m]\u001b[0m\u001b[0;34m\u001b[0m\u001b[0;34m\u001b[0m\u001b[0m\n\u001b[0;32m--> 155\u001b[0;31m         \u001b[0my\u001b[0m\u001b[0;34m,\u001b[0m \u001b[0mbinarize_y\u001b[0m \u001b[0;34m=\u001b[0m \u001b[0mcheck_target_type\u001b[0m\u001b[0;34m(\u001b[0m\u001b[0my\u001b[0m\u001b[0;34m,\u001b[0m \u001b[0mindicate_one_vs_all\u001b[0m\u001b[0;34m=\u001b[0m\u001b[0;32mTrue\u001b[0m\u001b[0;34m)\u001b[0m\u001b[0;34m\u001b[0m\u001b[0;34m\u001b[0m\u001b[0m\n\u001b[0m\u001b[1;32m    156\u001b[0m         \u001b[0mX\u001b[0m\u001b[0;34m,\u001b[0m \u001b[0my\u001b[0m \u001b[0;34m=\u001b[0m \u001b[0mself\u001b[0m\u001b[0;34m.\u001b[0m\u001b[0m_validate_data\u001b[0m\u001b[0;34m(\u001b[0m\u001b[0mX\u001b[0m\u001b[0;34m,\u001b[0m \u001b[0my\u001b[0m\u001b[0;34m,\u001b[0m \u001b[0mreset\u001b[0m\u001b[0;34m=\u001b[0m\u001b[0;32mTrue\u001b[0m\u001b[0;34m,\u001b[0m \u001b[0maccept_sparse\u001b[0m\u001b[0;34m=\u001b[0m\u001b[0maccept_sparse\u001b[0m\u001b[0;34m)\u001b[0m\u001b[0;34m\u001b[0m\u001b[0;34m\u001b[0m\u001b[0m\n\u001b[1;32m    157\u001b[0m         \u001b[0;32mreturn\u001b[0m \u001b[0mX\u001b[0m\u001b[0;34m,\u001b[0m \u001b[0my\u001b[0m\u001b[0;34m,\u001b[0m \u001b[0mbinarize_y\u001b[0m\u001b[0;34m\u001b[0m\u001b[0;34m\u001b[0m\u001b[0m\n",
            "\u001b[0;32m/usr/local/lib/python3.10/dist-packages/imblearn/utils/_validation.py\u001b[0m in \u001b[0;36mcheck_target_type\u001b[0;34m(y, indicate_one_vs_all)\u001b[0m\n\u001b[1;32m    145\u001b[0m     \u001b[0;32mif\u001b[0m \u001b[0mtype_y\u001b[0m \u001b[0;34m==\u001b[0m \u001b[0;34m\"multilabel-indicator\"\u001b[0m\u001b[0;34m:\u001b[0m\u001b[0;34m\u001b[0m\u001b[0;34m\u001b[0m\u001b[0m\n\u001b[1;32m    146\u001b[0m         \u001b[0;32mif\u001b[0m \u001b[0mnp\u001b[0m\u001b[0;34m.\u001b[0m\u001b[0many\u001b[0m\u001b[0;34m(\u001b[0m\u001b[0my\u001b[0m\u001b[0;34m.\u001b[0m\u001b[0msum\u001b[0m\u001b[0;34m(\u001b[0m\u001b[0maxis\u001b[0m\u001b[0;34m=\u001b[0m\u001b[0;36m1\u001b[0m\u001b[0;34m)\u001b[0m \u001b[0;34m>\u001b[0m \u001b[0;36m1\u001b[0m\u001b[0;34m)\u001b[0m\u001b[0;34m:\u001b[0m\u001b[0;34m\u001b[0m\u001b[0;34m\u001b[0m\u001b[0m\n\u001b[0;32m--> 147\u001b[0;31m             raise ValueError(\n\u001b[0m\u001b[1;32m    148\u001b[0m                 \u001b[0;34m\"Imbalanced-learn currently supports binary, multiclass and \"\u001b[0m\u001b[0;34m\u001b[0m\u001b[0;34m\u001b[0m\u001b[0m\n\u001b[1;32m    149\u001b[0m                 \u001b[0;34m\"binarized encoded multiclasss targets. Multilabel and \"\u001b[0m\u001b[0;34m\u001b[0m\u001b[0;34m\u001b[0m\u001b[0m\n",
            "\u001b[0;31mValueError\u001b[0m: Imbalanced-learn currently supports binary, multiclass and binarized encoded multiclasss targets. Multilabel and multioutput targets are not supported."
          ]
        }
      ]
    },
    {
      "cell_type": "markdown",
      "metadata": {
        "id": "AWqiIuP-MhJv"
      },
      "source": [
        "MODEL CREATION"
      ]
    },
    {
      "cell_type": "code",
      "execution_count": null,
      "metadata": {
        "id": "CZM-JHgPdYhj"
      },
      "outputs": [],
      "source": [
        "t = ['1994 and the couple has two daughters and one son 30 pm when PW1 was in the house situated at Gandhi Nagar Bellary the appellant abused PW1 and her father PW2 in filthy language and appellant pushed PW2 and voluntarily caused simple hurt to him The accusedappellant had remarried and has three children through his second wife who are to be educated The appellant through his first wife has two daughters and one son and one daughter is said to be pursuing engineering course The appellant has to take care of his aged parents']"
      ]
    },
    {
      "cell_type": "code",
      "execution_count": null,
      "metadata": {
        "colab": {
          "base_uri": "https://localhost:8080/"
        },
        "id": "05ZfRUedc8dG",
        "outputId": "de4ac468-bc11-482b-a445-5ce801a73932"
      },
      "outputs": [
        {
          "output_type": "stream",
          "name": "stdout",
          "text": [
            "['1994 and the couple has two daughters and one son 30 pm when PW1 was in the house situated at Gandhi Nagar Bellary the appellant abused PW1 and her father PW2 in filthy language and appellant pushed PW2 and voluntarily caused simple hurt to him The accusedappellant had remarried and has three children through his second wife who are to be educated The appellant through his first wife has two daughters and one son and one daughter is said to be pursuing engineering course The appellant has to take care of his aged parents']\n"
          ]
        }
      ],
      "source": [
        "print(t)"
      ]
    },
    {
      "cell_type": "code",
      "execution_count": null,
      "metadata": {
        "id": "VpG6OJiKMkMu"
      },
      "outputs": [],
      "source": [
        "from keras.preprocessing.text import one_hot\n",
        "from tensorflow.keras.preprocessing.sequence import pad_sequences\n",
        "from keras.models import Sequential\n",
        "from keras.layers.core import Activation, Dropout, Dense\n",
        "from keras.layers import Flatten, LSTM\n",
        "from keras.layers import Bidirectional,GRU,concatenate,SpatialDropout1D\n",
        "from keras.layers import GlobalMaxPooling1D,GlobalAveragePooling1D,Conv1D\n",
        "from keras.models import Model\n",
        "from keras.layers import Embedding\n",
        "from sklearn.model_selection import train_test_split\n",
        "from keras.preprocessing.text import Tokenizer\n",
        "from keras.layers import Input\n",
        "from keras.layers import Concatenate\n",
        "import matplotlib.pyplot as plt\n",
        "from keras import layers\n",
        "from keras.optimizers import Adam,SGD,RMSprop"
      ]
    },
    {
      "cell_type": "code",
      "execution_count": null,
      "metadata": {
        "id": "07ngQSkMN-_i"
      },
      "outputs": [],
      "source": [
        "max_len = 100\n",
        "max_features = 7492\n",
        "embed_size = 300"
      ]
    },
    {
      "cell_type": "code",
      "execution_count": null,
      "metadata": {
        "id": "tB1hK_-WOCs8"
      },
      "outputs": [],
      "source": [
        "tokenizer = Tokenizer(num_words=max_features)\n",
        "tokenizer.fit_on_texts(list(x_train)+list(x_test))\n",
        "\n",
        "x_train = tokenizer.texts_to_sequences(x_train)\n",
        "x_test= tokenizer.texts_to_sequences(x_test)\n",
        "\n",
        "\n",
        "x_train = pad_sequences(x_train, padding='post', maxlen=max_len)\n",
        "x_test = pad_sequences(x_test, padding='post', maxlen=max_len)"
      ]
    },
    {
      "cell_type": "code",
      "execution_count": null,
      "metadata": {
        "id": "VsSrpw1uOEzC"
      },
      "outputs": [],
      "source": [
        "from numpy import array\n",
        "from numpy import asarray\n",
        "from numpy import zeros\n",
        "embeddings_dictionary = dict()"
      ]
    },
    {
      "cell_type": "code",
      "execution_count": null,
      "metadata": {
        "id": "Pqkj9qCNOJ7s"
      },
      "outputs": [],
      "source": [
        "glove_file = open('glove.6B.300d.txt', encoding=\"utf-8\") ## using pre-trained or self-trained embeddings ##\n",
        "\n",
        "for line in glove_file:\n",
        "    records = line.split()\n",
        "    word = records[0]\n",
        "    vector_dimensions = asarray(records[1:], dtype='float32')\n",
        "    embeddings_dictionary[word] = vector_dimensions\n",
        "glove_file.close()\n",
        "\n",
        "vocab_size = len(tokenizer.word_index) + 1  ## total distinct words is the Vocabulary ##\n",
        "word_index = tokenizer.word_index\n",
        "num_words = min(max_features,len(word_index)+1)\n",
        "\n",
        "embedding_matrix = zeros((num_words, embed_size)) ## has to be similar to glove dimension ##\n",
        "for word, index in tokenizer.word_index.items():\n",
        "    if index >= max_features:\n",
        "        continue\n",
        "    embedding_vector = embeddings_dictionary.get(word)\n",
        "    if embedding_vector is not None:\n",
        "        embedding_matrix[index] = embedding_vector\n",
        "        "
      ]
    },
    {
      "cell_type": "code",
      "source": [
        "s=pd.DataFrame(embedding_matrix)\n",
        "s.head()"
      ],
      "metadata": {
        "colab": {
          "base_uri": "https://localhost:8080/",
          "height": 299
        },
        "id": "IZWlSwx9NOJv",
        "outputId": "b62cfdbc-08b2-48c1-c736-717ea1b47e5e"
      },
      "execution_count": null,
      "outputs": [
        {
          "output_type": "execute_result",
          "data": {
            "text/plain": [
              "        0         1         2        3         4         5         6    \\\n",
              "0  0.000000  0.000000  0.000000  0.00000  0.000000  0.000000  0.000000   \n",
              "1  0.046560  0.213180 -0.007436 -0.45854 -0.035639  0.236430 -0.288360   \n",
              "2  0.038466 -0.039792  0.082747 -0.38923 -0.214310  0.170200 -0.025657   \n",
              "3 -0.076947 -0.021211  0.212710 -0.72232 -0.139880 -0.122340 -0.175210   \n",
              "4 -0.257560 -0.057132 -0.671900 -0.38082 -0.364210 -0.082155 -0.010955   \n",
              "\n",
              "        7         8       9    ...       290      291       292       293  \\\n",
              "0  0.000000  0.000000  0.0000  ...  0.000000  0.00000  0.000000  0.000000   \n",
              "1  0.215210 -0.134860 -1.6413  ... -0.013064 -0.29686 -0.079913  0.195000   \n",
              "2  0.095780  0.238600 -1.6342  ...  0.045194 -0.20405 -0.210970 -0.110250   \n",
              "3  0.121370 -0.070866 -1.5721  ... -0.366730 -0.38603  0.302900  0.015747   \n",
              "4 -0.082047  0.460560 -1.8477  ... -0.012806 -0.59707  0.317340 -0.252670   \n",
              "\n",
              "        294       295       296       297       298       299  \n",
              "0  0.000000  0.000000  0.000000  0.000000  0.000000  0.000000  \n",
              "1  0.031549  0.285060 -0.087461  0.009061 -0.209890  0.053913  \n",
              "2  0.021766  0.441290  0.327970 -0.334270  0.011807  0.059703  \n",
              "3  0.340360  0.478410  0.068617  0.183510 -0.291830 -0.046533  \n",
              "4  0.543840  0.063007 -0.049795 -0.160430  0.046744 -0.070621  \n",
              "\n",
              "[5 rows x 300 columns]"
            ],
            "text/html": [
              "\n",
              "  <div id=\"df-4677e372-7dbf-446c-852c-8ccfe4d6c5fb\">\n",
              "    <div class=\"colab-df-container\">\n",
              "      <div>\n",
              "<style scoped>\n",
              "    .dataframe tbody tr th:only-of-type {\n",
              "        vertical-align: middle;\n",
              "    }\n",
              "\n",
              "    .dataframe tbody tr th {\n",
              "        vertical-align: top;\n",
              "    }\n",
              "\n",
              "    .dataframe thead th {\n",
              "        text-align: right;\n",
              "    }\n",
              "</style>\n",
              "<table border=\"1\" class=\"dataframe\">\n",
              "  <thead>\n",
              "    <tr style=\"text-align: right;\">\n",
              "      <th></th>\n",
              "      <th>0</th>\n",
              "      <th>1</th>\n",
              "      <th>2</th>\n",
              "      <th>3</th>\n",
              "      <th>4</th>\n",
              "      <th>5</th>\n",
              "      <th>6</th>\n",
              "      <th>7</th>\n",
              "      <th>8</th>\n",
              "      <th>9</th>\n",
              "      <th>...</th>\n",
              "      <th>290</th>\n",
              "      <th>291</th>\n",
              "      <th>292</th>\n",
              "      <th>293</th>\n",
              "      <th>294</th>\n",
              "      <th>295</th>\n",
              "      <th>296</th>\n",
              "      <th>297</th>\n",
              "      <th>298</th>\n",
              "      <th>299</th>\n",
              "    </tr>\n",
              "  </thead>\n",
              "  <tbody>\n",
              "    <tr>\n",
              "      <th>0</th>\n",
              "      <td>0.000000</td>\n",
              "      <td>0.000000</td>\n",
              "      <td>0.000000</td>\n",
              "      <td>0.00000</td>\n",
              "      <td>0.000000</td>\n",
              "      <td>0.000000</td>\n",
              "      <td>0.000000</td>\n",
              "      <td>0.000000</td>\n",
              "      <td>0.000000</td>\n",
              "      <td>0.0000</td>\n",
              "      <td>...</td>\n",
              "      <td>0.000000</td>\n",
              "      <td>0.00000</td>\n",
              "      <td>0.000000</td>\n",
              "      <td>0.000000</td>\n",
              "      <td>0.000000</td>\n",
              "      <td>0.000000</td>\n",
              "      <td>0.000000</td>\n",
              "      <td>0.000000</td>\n",
              "      <td>0.000000</td>\n",
              "      <td>0.000000</td>\n",
              "    </tr>\n",
              "    <tr>\n",
              "      <th>1</th>\n",
              "      <td>0.046560</td>\n",
              "      <td>0.213180</td>\n",
              "      <td>-0.007436</td>\n",
              "      <td>-0.45854</td>\n",
              "      <td>-0.035639</td>\n",
              "      <td>0.236430</td>\n",
              "      <td>-0.288360</td>\n",
              "      <td>0.215210</td>\n",
              "      <td>-0.134860</td>\n",
              "      <td>-1.6413</td>\n",
              "      <td>...</td>\n",
              "      <td>-0.013064</td>\n",
              "      <td>-0.29686</td>\n",
              "      <td>-0.079913</td>\n",
              "      <td>0.195000</td>\n",
              "      <td>0.031549</td>\n",
              "      <td>0.285060</td>\n",
              "      <td>-0.087461</td>\n",
              "      <td>0.009061</td>\n",
              "      <td>-0.209890</td>\n",
              "      <td>0.053913</td>\n",
              "    </tr>\n",
              "    <tr>\n",
              "      <th>2</th>\n",
              "      <td>0.038466</td>\n",
              "      <td>-0.039792</td>\n",
              "      <td>0.082747</td>\n",
              "      <td>-0.38923</td>\n",
              "      <td>-0.214310</td>\n",
              "      <td>0.170200</td>\n",
              "      <td>-0.025657</td>\n",
              "      <td>0.095780</td>\n",
              "      <td>0.238600</td>\n",
              "      <td>-1.6342</td>\n",
              "      <td>...</td>\n",
              "      <td>0.045194</td>\n",
              "      <td>-0.20405</td>\n",
              "      <td>-0.210970</td>\n",
              "      <td>-0.110250</td>\n",
              "      <td>0.021766</td>\n",
              "      <td>0.441290</td>\n",
              "      <td>0.327970</td>\n",
              "      <td>-0.334270</td>\n",
              "      <td>0.011807</td>\n",
              "      <td>0.059703</td>\n",
              "    </tr>\n",
              "    <tr>\n",
              "      <th>3</th>\n",
              "      <td>-0.076947</td>\n",
              "      <td>-0.021211</td>\n",
              "      <td>0.212710</td>\n",
              "      <td>-0.72232</td>\n",
              "      <td>-0.139880</td>\n",
              "      <td>-0.122340</td>\n",
              "      <td>-0.175210</td>\n",
              "      <td>0.121370</td>\n",
              "      <td>-0.070866</td>\n",
              "      <td>-1.5721</td>\n",
              "      <td>...</td>\n",
              "      <td>-0.366730</td>\n",
              "      <td>-0.38603</td>\n",
              "      <td>0.302900</td>\n",
              "      <td>0.015747</td>\n",
              "      <td>0.340360</td>\n",
              "      <td>0.478410</td>\n",
              "      <td>0.068617</td>\n",
              "      <td>0.183510</td>\n",
              "      <td>-0.291830</td>\n",
              "      <td>-0.046533</td>\n",
              "    </tr>\n",
              "    <tr>\n",
              "      <th>4</th>\n",
              "      <td>-0.257560</td>\n",
              "      <td>-0.057132</td>\n",
              "      <td>-0.671900</td>\n",
              "      <td>-0.38082</td>\n",
              "      <td>-0.364210</td>\n",
              "      <td>-0.082155</td>\n",
              "      <td>-0.010955</td>\n",
              "      <td>-0.082047</td>\n",
              "      <td>0.460560</td>\n",
              "      <td>-1.8477</td>\n",
              "      <td>...</td>\n",
              "      <td>-0.012806</td>\n",
              "      <td>-0.59707</td>\n",
              "      <td>0.317340</td>\n",
              "      <td>-0.252670</td>\n",
              "      <td>0.543840</td>\n",
              "      <td>0.063007</td>\n",
              "      <td>-0.049795</td>\n",
              "      <td>-0.160430</td>\n",
              "      <td>0.046744</td>\n",
              "      <td>-0.070621</td>\n",
              "    </tr>\n",
              "  </tbody>\n",
              "</table>\n",
              "<p>5 rows × 300 columns</p>\n",
              "</div>\n",
              "      <button class=\"colab-df-convert\" onclick=\"convertToInteractive('df-4677e372-7dbf-446c-852c-8ccfe4d6c5fb')\"\n",
              "              title=\"Convert this dataframe to an interactive table.\"\n",
              "              style=\"display:none;\">\n",
              "        \n",
              "  <svg xmlns=\"http://www.w3.org/2000/svg\" height=\"24px\"viewBox=\"0 0 24 24\"\n",
              "       width=\"24px\">\n",
              "    <path d=\"M0 0h24v24H0V0z\" fill=\"none\"/>\n",
              "    <path d=\"M18.56 5.44l.94 2.06.94-2.06 2.06-.94-2.06-.94-.94-2.06-.94 2.06-2.06.94zm-11 1L8.5 8.5l.94-2.06 2.06-.94-2.06-.94L8.5 2.5l-.94 2.06-2.06.94zm10 10l.94 2.06.94-2.06 2.06-.94-2.06-.94-.94-2.06-.94 2.06-2.06.94z\"/><path d=\"M17.41 7.96l-1.37-1.37c-.4-.4-.92-.59-1.43-.59-.52 0-1.04.2-1.43.59L10.3 9.45l-7.72 7.72c-.78.78-.78 2.05 0 2.83L4 21.41c.39.39.9.59 1.41.59.51 0 1.02-.2 1.41-.59l7.78-7.78 2.81-2.81c.8-.78.8-2.07 0-2.86zM5.41 20L4 18.59l7.72-7.72 1.47 1.35L5.41 20z\"/>\n",
              "  </svg>\n",
              "      </button>\n",
              "      \n",
              "  <style>\n",
              "    .colab-df-container {\n",
              "      display:flex;\n",
              "      flex-wrap:wrap;\n",
              "      gap: 12px;\n",
              "    }\n",
              "\n",
              "    .colab-df-convert {\n",
              "      background-color: #E8F0FE;\n",
              "      border: none;\n",
              "      border-radius: 50%;\n",
              "      cursor: pointer;\n",
              "      display: none;\n",
              "      fill: #1967D2;\n",
              "      height: 32px;\n",
              "      padding: 0 0 0 0;\n",
              "      width: 32px;\n",
              "    }\n",
              "\n",
              "    .colab-df-convert:hover {\n",
              "      background-color: #E2EBFA;\n",
              "      box-shadow: 0px 1px 2px rgba(60, 64, 67, 0.3), 0px 1px 3px 1px rgba(60, 64, 67, 0.15);\n",
              "      fill: #174EA6;\n",
              "    }\n",
              "\n",
              "    [theme=dark] .colab-df-convert {\n",
              "      background-color: #3B4455;\n",
              "      fill: #D2E3FC;\n",
              "    }\n",
              "\n",
              "    [theme=dark] .colab-df-convert:hover {\n",
              "      background-color: #434B5C;\n",
              "      box-shadow: 0px 1px 3px 1px rgba(0, 0, 0, 0.15);\n",
              "      filter: drop-shadow(0px 1px 2px rgba(0, 0, 0, 0.3));\n",
              "      fill: #FFFFFF;\n",
              "    }\n",
              "  </style>\n",
              "\n",
              "      <script>\n",
              "        const buttonEl =\n",
              "          document.querySelector('#df-4677e372-7dbf-446c-852c-8ccfe4d6c5fb button.colab-df-convert');\n",
              "        buttonEl.style.display =\n",
              "          google.colab.kernel.accessAllowed ? 'block' : 'none';\n",
              "\n",
              "        async function convertToInteractive(key) {\n",
              "          const element = document.querySelector('#df-4677e372-7dbf-446c-852c-8ccfe4d6c5fb');\n",
              "          const dataTable =\n",
              "            await google.colab.kernel.invokeFunction('convertToInteractive',\n",
              "                                                     [key], {});\n",
              "          if (!dataTable) return;\n",
              "\n",
              "          const docLinkHtml = 'Like what you see? Visit the ' +\n",
              "            '<a target=\"_blank\" href=https://colab.research.google.com/notebooks/data_table.ipynb>data table notebook</a>'\n",
              "            + ' to learn more about interactive tables.';\n",
              "          element.innerHTML = '';\n",
              "          dataTable['output_type'] = 'display_data';\n",
              "          await google.colab.output.renderOutput(dataTable, element);\n",
              "          const docLink = document.createElement('div');\n",
              "          docLink.innerHTML = docLinkHtml;\n",
              "          element.appendChild(docLink);\n",
              "        }\n",
              "      </script>\n",
              "    </div>\n",
              "  </div>\n",
              "  "
            ]
          },
          "metadata": {},
          "execution_count": 47
        }
      ]
    },
    {
      "cell_type": "code",
      "source": [
        "from keras import backend as K"
      ],
      "metadata": {
        "id": "_fTfuEbl9VPn"
      },
      "execution_count": null,
      "outputs": []
    },
    {
      "cell_type": "code",
      "source": [
        "def recall_m(y_true, y_pred):\n",
        "    true_positives = K.sum(K.round(K.clip(y_true * y_pred, 0, 1)))\n",
        "    possible_positives = K.sum(K.round(K.clip(y_true, 0, 1)))\n",
        "    recall = true_positives / (possible_positives + K.epsilon())\n",
        "    return recall\n"
      ],
      "metadata": {
        "id": "IrexvK6f7IHs"
      },
      "execution_count": null,
      "outputs": []
    },
    {
      "cell_type": "code",
      "source": [
        "def precision_m(y_true, y_pred):\n",
        "    true_positives = K.sum(K.round(K.clip(y_true * y_pred, 0, 1)))\n",
        "    predicted_positives = K.sum(K.round(K.clip(y_pred, 0, 1)))\n",
        "    precision = true_positives / (predicted_positives + K.epsilon())\n",
        "    return precision\n"
      ],
      "metadata": {
        "id": "0r0oo9tL7N-Z"
      },
      "execution_count": null,
      "outputs": []
    },
    {
      "cell_type": "code",
      "source": [
        "def f1_m(y_true, y_pred):\n",
        "    precision = precision_m(y_true, y_pred)\n",
        "    recall = recall_m(y_true, y_pred)\n",
        "    return 2*((precision*recall)/(precision+recall+K.epsilon()))"
      ],
      "metadata": {
        "id": "vxepNfKB7QXv"
      },
      "execution_count": null,
      "outputs": []
    },
    {
      "cell_type": "code",
      "source": [
        "from keras.layers import *\n",
        "from keras.models import *\n",
        "from keras import backend as K"
      ],
      "metadata": {
        "id": "_6BJYmTbvpIT"
      },
      "execution_count": null,
      "outputs": []
    },
    {
      "cell_type": "code",
      "source": [
        "SINGLE_ATTENTION_VECTOR=False\n",
        "def attention_3d_block(inputs):\n",
        "    # inputs.shape = (batch_size, time_steps, input_dim)\n",
        "    input_dim = int(inputs.shape[2])\n",
        "    print(input_dim)\n",
        "    a = inputs\n",
        "    #a = Permute((2, 1))(inputs)\n",
        "    #a = Reshape((input_dim, TIME_STEPS))(a) # this line is not useful. It's just to know which dimension is what.\n",
        "    a = Dense(input_dim, activation='softmax')(a)\n",
        "    if SINGLE_ATTENTION_VECTOR:\n",
        "        a = Lambda(lambda x: K.mean(x, axis=1), name='dim_reduction')(a)\n",
        "        a = RepeatVector(input_dim)(a)\n",
        "    a_probs = Permute((1, 2), name='attention_vec')(a)\n",
        "\n",
        "    #output_attention_mul = merge([inputs, a_probs], name='attention_mul', mode='mul')\n",
        "    output_attention_mul = Multiply()([inputs, a_probs])\n",
        "    return output_attention_mul"
      ],
      "metadata": {
        "id": "smq6MsMuvtlx"
      },
      "execution_count": null,
      "outputs": []
    },
    {
      "cell_type": "code",
      "execution_count": null,
      "metadata": {
        "colab": {
          "base_uri": "https://localhost:8080/"
        },
        "id": "T14-HeK1Osij",
        "outputId": "8114d8d7-e8f5-4806-bc0f-d92a69e3d080"
      },
      "outputs": [
        {
          "output_type": "stream",
          "name": "stdout",
          "text": [
            "400\n",
            "Model: \"model_3\"\n",
            "__________________________________________________________________________________________________\n",
            " Layer (type)                   Output Shape         Param #     Connected to                     \n",
            "==================================================================================================\n",
            " input_7 (InputLayer)           [(None, 100)]        0           []                               \n",
            "                                                                                                  \n",
            " embedding_6 (Embedding)        (None, 100, 300)     2247600     ['input_7[0][0]']                \n",
            "                                                                                                  \n",
            " spatial_dropout1d_6 (SpatialDr  (None, 100, 300)    0           ['embedding_6[0][0]']            \n",
            " opout1D)                                                                                         \n",
            "                                                                                                  \n",
            " conv1d_6 (Conv1D)              (None, 98, 64)       57664       ['spatial_dropout1d_6[0][0]']    \n",
            "                                                                                                  \n",
            " bidirectional_6 (Bidirectional  (None, 98, 400)     424000      ['conv1d_6[0][0]']               \n",
            " )                                                                                                \n",
            "                                                                                                  \n",
            " dense_11 (Dense)               (None, 98, 400)      160400      ['bidirectional_6[0][0]']        \n",
            "                                                                                                  \n",
            " attention_vec (Permute)        (None, 98, 400)      0           ['dense_11[0][0]']               \n",
            "                                                                                                  \n",
            " multiply_5 (Multiply)          (None, 98, 400)      0           ['bidirectional_6[0][0]',        \n",
            "                                                                  'attention_vec[0][0]']          \n",
            "                                                                                                  \n",
            " global_average_pooling1d_5 (Gl  (None, 400)         0           ['multiply_5[0][0]']             \n",
            " obalAveragePooling1D)                                                                            \n",
            "                                                                                                  \n",
            " dense_12 (Dense)               (None, 200)          80200       ['global_average_pooling1d_5[0][0\n",
            "                                                                 ]']                              \n",
            "                                                                                                  \n",
            " dropout_3 (Dropout)            (None, 200)          0           ['dense_12[0][0]']               \n",
            "                                                                                                  \n",
            " dense_13 (Dense)               (None, 41)           8241        ['dropout_3[0][0]']              \n",
            "                                                                                                  \n",
            "==================================================================================================\n",
            "Total params: 2,978,105\n",
            "Trainable params: 730,505\n",
            "Non-trainable params: 2,247,600\n",
            "__________________________________________________________________________________________________\n",
            "None\n"
          ]
        }
      ],
      "source": [
        "sequence_input = Input(shape=(max_len, ))\n",
        "x = Embedding(max_features, embed_size, weights=[embedding_matrix],trainable = False)(sequence_input)\n",
        "x = SpatialDropout1D(0.2)(x) ## ostly drops the entire 1D feature map rather than individual elements.\n",
        "x = Conv1D(64, kernel_size = 3, padding = \"valid\", kernel_initializer = \"glorot_uniform\")(x)\n",
        "x = Bidirectional(LSTM(200, return_sequences=True,dropout=0.1,recurrent_dropout=0.1))(x)\n",
        "x=attention_3d_block(x)\n",
        "avg_pool = GlobalAveragePooling1D()(x)\n",
        "x = Dense(200, activation='relu')(avg_pool)\n",
        "x = Dropout(0.2)(x)\n",
        "preds = Dense(41, activation=\"sigmoid\")(x)\n",
        "model = Model(sequence_input, preds)\n",
        "model.compile(loss='binary_crossentropy',optimizer=RMSprop(lr=1e-3),metrics=['accuracy',f1_m,precision_m,recall_m])\n",
        "print(model.summary())"
      ]
    },
    {
      "cell_type": "code",
      "execution_count": null,
      "metadata": {
        "colab": {
          "base_uri": "https://localhost:8080/"
        },
        "id": "kRr5lhg3OySU",
        "outputId": "571f3b7f-cc21-403b-b0bb-0d4f0367f6f7"
      },
      "outputs": [
        {
          "output_type": "stream",
          "name": "stdout",
          "text": [
            "Epoch 1/20\n",
            "23/23 [==============================] - 78s 3s/step - loss: 0.5935 - accuracy: 0.4837 - f1_m: 0.3510 - precision_m: 0.6079 - recall_m: 0.2634 - val_loss: 0.4734 - val_accuracy: 0.5404 - val_f1_m: 0.3805 - val_precision_m: 0.7051 - val_recall_m: 0.2609\n",
            "Epoch 2/20\n",
            "23/23 [==============================] - 66s 3s/step - loss: 0.3997 - accuracy: 0.5191 - f1_m: 0.3731 - precision_m: 0.6984 - recall_m: 0.2556 - val_loss: 0.3172 - val_accuracy: 0.5404 - val_f1_m: 0.3805 - val_precision_m: 0.7051 - val_recall_m: 0.2609\n",
            "Epoch 3/20\n",
            "23/23 [==============================] - 67s 3s/step - loss: 0.2759 - accuracy: 0.5191 - f1_m: 0.3658 - precision_m: 0.6984 - recall_m: 0.2479 - val_loss: 0.2300 - val_accuracy: 0.5404 - val_f1_m: 0.3805 - val_precision_m: 0.7051 - val_recall_m: 0.2609\n",
            "Epoch 4/20\n",
            "23/23 [==============================] - 69s 3s/step - loss: 0.2155 - accuracy: 0.5191 - f1_m: 0.3644 - precision_m: 0.6878 - recall_m: 0.2483 - val_loss: 0.1929 - val_accuracy: 0.5404 - val_f1_m: 0.3805 - val_precision_m: 0.7051 - val_recall_m: 0.2609\n",
            "Epoch 5/20\n",
            "23/23 [==============================] - 67s 3s/step - loss: 0.1924 - accuracy: 0.5191 - f1_m: 0.3678 - precision_m: 0.7089 - recall_m: 0.2487 - val_loss: 0.1805 - val_accuracy: 0.5404 - val_f1_m: 0.3805 - val_precision_m: 0.7051 - val_recall_m: 0.2609\n",
            "Epoch 6/20\n",
            "23/23 [==============================] - 68s 3s/step - loss: 0.1851 - accuracy: 0.5191 - f1_m: 0.3784 - precision_m: 0.6984 - recall_m: 0.2631 - val_loss: 0.1766 - val_accuracy: 0.5404 - val_f1_m: 0.3805 - val_precision_m: 0.7051 - val_recall_m: 0.2609\n",
            "Epoch 7/20\n",
            "23/23 [==============================] - 69s 3s/step - loss: 0.1831 - accuracy: 0.5191 - f1_m: 0.3655 - precision_m: 0.6878 - recall_m: 0.2497 - val_loss: 0.1755 - val_accuracy: 0.5404 - val_f1_m: 0.3805 - val_precision_m: 0.7051 - val_recall_m: 0.2609\n",
            "Epoch 8/20\n",
            "23/23 [==============================] - 68s 3s/step - loss: 0.1823 - accuracy: 0.5191 - f1_m: 0.3685 - precision_m: 0.6984 - recall_m: 0.2506 - val_loss: 0.1748 - val_accuracy: 0.5404 - val_f1_m: 0.3805 - val_precision_m: 0.7051 - val_recall_m: 0.2609\n",
            "Epoch 9/20\n",
            "23/23 [==============================] - 69s 3s/step - loss: 0.1821 - accuracy: 0.5191 - f1_m: 0.3561 - precision_m: 0.6773 - recall_m: 0.2419 - val_loss: 0.1749 - val_accuracy: 0.5404 - val_f1_m: 0.3805 - val_precision_m: 0.7051 - val_recall_m: 0.2609\n",
            "Epoch 10/20\n",
            "23/23 [==============================] - 66s 3s/step - loss: 0.1820 - accuracy: 0.5191 - f1_m: 0.3657 - precision_m: 0.7089 - recall_m: 0.2473 - val_loss: 0.1748 - val_accuracy: 0.5404 - val_f1_m: 0.3805 - val_precision_m: 0.7051 - val_recall_m: 0.2609\n",
            "Epoch 11/20\n",
            "23/23 [==============================] - 68s 3s/step - loss: 0.1820 - accuracy: 0.5191 - f1_m: 0.3633 - precision_m: 0.6984 - recall_m: 0.2460 - val_loss: 0.1745 - val_accuracy: 0.5404 - val_f1_m: 0.3805 - val_precision_m: 0.7051 - val_recall_m: 0.2609\n",
            "Epoch 12/20\n",
            "23/23 [==============================] - 70s 3s/step - loss: 0.1820 - accuracy: 0.5191 - f1_m: 0.3650 - precision_m: 0.6984 - recall_m: 0.2474 - val_loss: 0.1745 - val_accuracy: 0.5404 - val_f1_m: 0.3805 - val_precision_m: 0.7051 - val_recall_m: 0.2609\n",
            "Epoch 13/20\n",
            "23/23 [==============================] - 66s 3s/step - loss: 0.1818 - accuracy: 0.5191 - f1_m: 0.3674 - precision_m: 0.6984 - recall_m: 0.2495 - val_loss: 0.1743 - val_accuracy: 0.5404 - val_f1_m: 0.3805 - val_precision_m: 0.7051 - val_recall_m: 0.2609\n",
            "Epoch 14/20\n",
            "23/23 [==============================] - 68s 3s/step - loss: 0.1807 - accuracy: 0.5191 - f1_m: 0.3699 - precision_m: 0.6984 - recall_m: 0.2520 - val_loss: 0.1746 - val_accuracy: 0.5404 - val_f1_m: 0.3805 - val_precision_m: 0.7051 - val_recall_m: 0.2609\n",
            "Epoch 15/20\n",
            "23/23 [==============================] - 69s 3s/step - loss: 0.1803 - accuracy: 0.5191 - f1_m: 0.3681 - precision_m: 0.6984 - recall_m: 0.2501 - val_loss: 0.1733 - val_accuracy: 0.5404 - val_f1_m: 0.3805 - val_precision_m: 0.7051 - val_recall_m: 0.2609\n",
            "Epoch 16/20\n",
            "23/23 [==============================] - 68s 3s/step - loss: 0.1796 - accuracy: 0.5191 - f1_m: 0.3600 - precision_m: 0.6878 - recall_m: 0.2441 - val_loss: 0.1724 - val_accuracy: 0.5404 - val_f1_m: 0.3805 - val_precision_m: 0.7051 - val_recall_m: 0.2609\n",
            "Epoch 17/20\n",
            "23/23 [==============================] - 70s 3s/step - loss: 0.1791 - accuracy: 0.5191 - f1_m: 0.3615 - precision_m: 0.6879 - recall_m: 0.2454 - val_loss: 0.1722 - val_accuracy: 0.5404 - val_f1_m: 0.3805 - val_precision_m: 0.7051 - val_recall_m: 0.2609\n",
            "Epoch 18/20\n",
            "23/23 [==============================] - 68s 3s/step - loss: 0.1785 - accuracy: 0.5191 - f1_m: 0.3668 - precision_m: 0.6984 - recall_m: 0.2488 - val_loss: 0.1719 - val_accuracy: 0.5404 - val_f1_m: 0.3805 - val_precision_m: 0.7051 - val_recall_m: 0.2609\n",
            "Epoch 19/20\n",
            "23/23 [==============================] - 71s 3s/step - loss: 0.1780 - accuracy: 0.5191 - f1_m: 0.3690 - precision_m: 0.7089 - recall_m: 0.2498 - val_loss: 0.1714 - val_accuracy: 0.5404 - val_f1_m: 0.3805 - val_precision_m: 0.7051 - val_recall_m: 0.2609\n",
            "Epoch 20/20\n",
            "23/23 [==============================] - 70s 3s/step - loss: 0.1777 - accuracy: 0.5191 - f1_m: 0.3670 - precision_m: 0.6984 - recall_m: 0.2490 - val_loss: 0.1722 - val_accuracy: 0.5404 - val_f1_m: 0.3805 - val_precision_m: 0.7051 - val_recall_m: 0.2609\n",
            "20/20 [==============================] - 4s 215ms/step - loss: 0.1796 - accuracy: 0.4944 - f1_m: 0.3613 - precision_m: 0.6775 - recall_m: 0.2473\n",
            "Test Score: 0.17956379055976868\n",
            "Test Accuracy: 0.49438202381134033\n",
            "f1_score: 0.36125361919403076\n",
            "precision: 0.6775000095367432\n",
            "Recall: 0.24729017913341522\n"
          ]
        }
      ],
      "source": [
        "history = model.fit(x_train, y_train, batch_size=128, epochs=20,\n",
        "                    verbose=1, validation_split=0.2)\n",
        "\n",
        "model.save_weights(\"./BiLSTM_ver1.h5\")\n",
        "##################################\n",
        "### Scoring on Validation set ####\n",
        "loss,accuracy,f1_score,precision,recall = model.evaluate(x_test, y_test, verbose=1)\n",
        "print(\"Test Score:\", loss)\n",
        "print(\"Test Accuracy:\", accuracy)\n",
        "print(\"f1_score:\", f1_score)\n",
        "print(\"precision:\", precision)\n",
        "print(\"Recall:\", recall)"
      ]
    },
    {
      "cell_type": "code",
      "source": [],
      "metadata": {
        "id": "i_XiGeuq-huI"
      },
      "execution_count": null,
      "outputs": []
    }
  ],
  "metadata": {
    "colab": {
      "provenance": [],
      "include_colab_link": true
    },
    "kernelspec": {
      "display_name": "Python 3",
      "name": "python3"
    },
    "language_info": {
      "name": "python"
    }
  },
  "nbformat": 4,
  "nbformat_minor": 0
}